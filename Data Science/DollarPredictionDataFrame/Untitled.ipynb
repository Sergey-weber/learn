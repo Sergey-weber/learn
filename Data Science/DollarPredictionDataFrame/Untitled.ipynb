{
 "cells": [
  {
   "cell_type": "code",
   "execution_count": 2,
   "metadata": {},
   "outputs": [
    {
     "ename": "SyntaxError",
     "evalue": "EOL while scanning string literal (<ipython-input-2-19e5aee4f5ef>, line 1)",
     "output_type": "error",
     "traceback": [
      "\u001b[0;36m  File \u001b[0;32m\"<ipython-input-2-19e5aee4f5ef>\"\u001b[0;36m, line \u001b[0;32m1\u001b[0m\n\u001b[0;31m    print(\"Hello world)\u001b[0m\n\u001b[0m                       ^\u001b[0m\n\u001b[0;31mSyntaxError\u001b[0m\u001b[0;31m:\u001b[0m EOL while scanning string literal\n"
     ]
    }
   ],
   "source": [
    "print(\"Hello world)"
   ]
  },
  {
   "cell_type": "code",
   "execution_count": 3,
   "metadata": {},
   "outputs": [
    {
     "name": "stdout",
     "output_type": "stream",
     "text": [
      "EEEE bOY!\n"
     ]
    }
   ],
   "source": [
    "print(\"EEEE bOY!\")"
   ]
  },
  {
   "cell_type": "code",
   "execution_count": 4,
   "metadata": {},
   "outputs": [
    {
     "name": "stdout",
     "output_type": "stream",
     "text": [
      "[1000, 64000, 23, 333]\n"
     ]
    }
   ],
   "source": [
    "income = [1000, 64000, 23, 333]\n",
    "\n",
    "print(income)"
   ]
  },
  {
   "cell_type": "code",
   "execution_count": 5,
   "metadata": {},
   "outputs": [],
   "source": [
    "dollar_rate = 64"
   ]
  },
  {
   "cell_type": "code",
   "execution_count": 6,
   "metadata": {},
   "outputs": [],
   "source": [
    "usd_income = [i / dollar_rate for i in income]"
   ]
  },
  {
   "cell_type": "code",
   "execution_count": 7,
   "metadata": {},
   "outputs": [
    {
     "name": "stdout",
     "output_type": "stream",
     "text": [
      "[15.625, 1000.0, 0.359375, 5.203125]\n"
     ]
    }
   ],
   "source": [
    "print(usd_income)"
   ]
  },
  {
   "cell_type": "code",
   "execution_count": 8,
   "metadata": {},
   "outputs": [
    {
     "name": "stdout",
     "output_type": "stream",
     "text": [
      "65356 1021.1875\n"
     ]
    }
   ],
   "source": [
    "sum_income = sum(income)\n",
    "sum_usd_income = sum(usd_income)\n",
    "print(sum_income, sum_usd_income)"
   ]
  },
  {
   "cell_type": "code",
   "execution_count": 9,
   "metadata": {},
   "outputs": [],
   "source": [
    "import pandas as pd"
   ]
  },
  {
   "cell_type": "code",
   "execution_count": 11,
   "metadata": {},
   "outputs": [
    {
     "data": {
      "text/plain": [
       "<function pandas.io.excel._base.read_excel(io, sheet_name=0, header=0, names=None, index_col=None, usecols=None, squeeze=False, dtype=None, engine=None, converters=None, true_values=None, false_values=None, skiprows=None, nrows=None, na_values=None, keep_default_na=True, verbose=False, parse_dates=False, date_parser=None, thousands=None, comment=None, skip_footer=0, skipfooter=0, convert_float=True, mangle_dupe_cols=True, **kwds)>"
      ]
     },
     "execution_count": 11,
     "metadata": {},
     "output_type": "execute_result"
    }
   ],
   "source": [
    "pd.read_excel"
   ]
  },
  {
   "cell_type": "code",
   "execution_count": 12,
   "metadata": {},
   "outputs": [],
   "source": [
    "exchange_rate = pd.read_excel(\"usd_exchange_rate.xlsx\")"
   ]
  },
  {
   "cell_type": "code",
   "execution_count": 13,
   "metadata": {},
   "outputs": [
    {
     "name": "stdout",
     "output_type": "stream",
     "text": [
      "     nominal       data     curs                   cdx\n",
      "0          1 2018-01-10  44.6558  Австралийский доллар\n",
      "1          1 2018-01-11  44.5205  Австралийский доллар\n",
      "2          1 2018-01-12  44.8442  Австралийский доллар\n",
      "3          1 2018-01-13  44.5740  Австралийский доллар\n",
      "4          1 2018-01-16  44.7925  Австралийский доллар\n",
      "..       ...        ...      ...                   ...\n",
      "516        1 2020-02-11  42.6627  Австралийский доллар\n",
      "517        1 2020-02-12  42.9226  Австралийский доллар\n",
      "518        1 2020-02-13  42.5189  Австралийский доллар\n",
      "519        1 2020-02-14  42.8039  Австралийский доллар\n",
      "520        1 2020-02-15  42.6916  Австралийский доллар\n",
      "\n",
      "[521 rows x 4 columns]\n"
     ]
    }
   ],
   "source": [
    "print(exchange_rate\n",
    "     )"
   ]
  },
  {
   "cell_type": "code",
   "execution_count": 14,
   "metadata": {},
   "outputs": [],
   "source": [
    "exchange_rate = pd.read_excel(\"usd_exchange_rate.xlsx\")"
   ]
  },
  {
   "cell_type": "code",
   "execution_count": 15,
   "metadata": {},
   "outputs": [
    {
     "name": "stdout",
     "output_type": "stream",
     "text": [
      "     nominal       data     curs         cdx\n",
      "0          1 2018-01-10  57.0463  Доллар США\n",
      "1          1 2018-01-11  56.8734  Доллар США\n",
      "2          1 2018-01-12  56.9957  Доллар США\n",
      "3          1 2018-01-13  56.6019  Доллар США\n",
      "4          1 2018-01-16  56.3569  Доллар США\n",
      "..       ...        ...      ...         ...\n",
      "516        1 2020-02-11  63.7708  Доллар США\n",
      "517        1 2020-02-12  63.9490  Доллар США\n",
      "518        1 2020-02-13  63.0470  Доллар США\n",
      "519        1 2020-02-14  63.6016  Доллар США\n",
      "520        1 2020-02-15  63.4536  Доллар США\n",
      "\n",
      "[521 rows x 4 columns]\n"
     ]
    }
   ],
   "source": [
    "print(exchange_rate)"
   ]
  },
  {
   "cell_type": "code",
   "execution_count": 16,
   "metadata": {},
   "outputs": [
    {
     "data": {
      "text/plain": [
       "0      57.0463\n",
       "1      56.8734\n",
       "2      56.9957\n",
       "3      56.6019\n",
       "4      56.3569\n",
       "        ...   \n",
       "516    63.7708\n",
       "517    63.9490\n",
       "518    63.0470\n",
       "519    63.6016\n",
       "520    63.4536\n",
       "Name: curs, Length: 521, dtype: float64"
      ]
     },
     "execution_count": 16,
     "metadata": {},
     "output_type": "execute_result"
    }
   ],
   "source": [
    "exchange_rate.curs"
   ]
  },
  {
   "cell_type": "code",
   "execution_count": 17,
   "metadata": {},
   "outputs": [],
   "source": [
    "exchange_rate[\"curs_v_kopeykah\"] = exchange_rate.curs * 100"
   ]
  },
  {
   "cell_type": "code",
   "execution_count": 18,
   "metadata": {},
   "outputs": [
    {
     "data": {
      "text/plain": [
       "0      57.0463\n",
       "1      56.8734\n",
       "2      56.9957\n",
       "3      56.6019\n",
       "4      56.3569\n",
       "        ...   \n",
       "516    63.7708\n",
       "517    63.9490\n",
       "518    63.0470\n",
       "519    63.6016\n",
       "520    63.4536\n",
       "Name: curs, Length: 521, dtype: float64"
      ]
     },
     "execution_count": 18,
     "metadata": {},
     "output_type": "execute_result"
    }
   ],
   "source": [
    "exchange_rate.curs"
   ]
  },
  {
   "cell_type": "code",
   "execution_count": 19,
   "metadata": {},
   "outputs": [
    {
     "data": {
      "text/html": [
       "<div>\n",
       "<style scoped>\n",
       "    .dataframe tbody tr th:only-of-type {\n",
       "        vertical-align: middle;\n",
       "    }\n",
       "\n",
       "    .dataframe tbody tr th {\n",
       "        vertical-align: top;\n",
       "    }\n",
       "\n",
       "    .dataframe thead th {\n",
       "        text-align: right;\n",
       "    }\n",
       "</style>\n",
       "<table border=\"1\" class=\"dataframe\">\n",
       "  <thead>\n",
       "    <tr style=\"text-align: right;\">\n",
       "      <th></th>\n",
       "      <th>nominal</th>\n",
       "      <th>data</th>\n",
       "      <th>curs</th>\n",
       "      <th>cdx</th>\n",
       "      <th>curs_v_kopeykah</th>\n",
       "    </tr>\n",
       "  </thead>\n",
       "  <tbody>\n",
       "    <tr>\n",
       "      <td>0</td>\n",
       "      <td>1</td>\n",
       "      <td>2018-01-10</td>\n",
       "      <td>57.0463</td>\n",
       "      <td>Доллар США</td>\n",
       "      <td>5704.63</td>\n",
       "    </tr>\n",
       "    <tr>\n",
       "      <td>1</td>\n",
       "      <td>1</td>\n",
       "      <td>2018-01-11</td>\n",
       "      <td>56.8734</td>\n",
       "      <td>Доллар США</td>\n",
       "      <td>5687.34</td>\n",
       "    </tr>\n",
       "    <tr>\n",
       "      <td>2</td>\n",
       "      <td>1</td>\n",
       "      <td>2018-01-12</td>\n",
       "      <td>56.9957</td>\n",
       "      <td>Доллар США</td>\n",
       "      <td>5699.57</td>\n",
       "    </tr>\n",
       "    <tr>\n",
       "      <td>3</td>\n",
       "      <td>1</td>\n",
       "      <td>2018-01-13</td>\n",
       "      <td>56.6019</td>\n",
       "      <td>Доллар США</td>\n",
       "      <td>5660.19</td>\n",
       "    </tr>\n",
       "    <tr>\n",
       "      <td>4</td>\n",
       "      <td>1</td>\n",
       "      <td>2018-01-16</td>\n",
       "      <td>56.3569</td>\n",
       "      <td>Доллар США</td>\n",
       "      <td>5635.69</td>\n",
       "    </tr>\n",
       "    <tr>\n",
       "      <td>...</td>\n",
       "      <td>...</td>\n",
       "      <td>...</td>\n",
       "      <td>...</td>\n",
       "      <td>...</td>\n",
       "      <td>...</td>\n",
       "    </tr>\n",
       "    <tr>\n",
       "      <td>516</td>\n",
       "      <td>1</td>\n",
       "      <td>2020-02-11</td>\n",
       "      <td>63.7708</td>\n",
       "      <td>Доллар США</td>\n",
       "      <td>6377.08</td>\n",
       "    </tr>\n",
       "    <tr>\n",
       "      <td>517</td>\n",
       "      <td>1</td>\n",
       "      <td>2020-02-12</td>\n",
       "      <td>63.9490</td>\n",
       "      <td>Доллар США</td>\n",
       "      <td>6394.90</td>\n",
       "    </tr>\n",
       "    <tr>\n",
       "      <td>518</td>\n",
       "      <td>1</td>\n",
       "      <td>2020-02-13</td>\n",
       "      <td>63.0470</td>\n",
       "      <td>Доллар США</td>\n",
       "      <td>6304.70</td>\n",
       "    </tr>\n",
       "    <tr>\n",
       "      <td>519</td>\n",
       "      <td>1</td>\n",
       "      <td>2020-02-14</td>\n",
       "      <td>63.6016</td>\n",
       "      <td>Доллар США</td>\n",
       "      <td>6360.16</td>\n",
       "    </tr>\n",
       "    <tr>\n",
       "      <td>520</td>\n",
       "      <td>1</td>\n",
       "      <td>2020-02-15</td>\n",
       "      <td>63.4536</td>\n",
       "      <td>Доллар США</td>\n",
       "      <td>6345.36</td>\n",
       "    </tr>\n",
       "  </tbody>\n",
       "</table>\n",
       "<p>521 rows × 5 columns</p>\n",
       "</div>"
      ],
      "text/plain": [
       "     nominal       data     curs         cdx  curs_v_kopeykah\n",
       "0          1 2018-01-10  57.0463  Доллар США          5704.63\n",
       "1          1 2018-01-11  56.8734  Доллар США          5687.34\n",
       "2          1 2018-01-12  56.9957  Доллар США          5699.57\n",
       "3          1 2018-01-13  56.6019  Доллар США          5660.19\n",
       "4          1 2018-01-16  56.3569  Доллар США          5635.69\n",
       "..       ...        ...      ...         ...              ...\n",
       "516        1 2020-02-11  63.7708  Доллар США          6377.08\n",
       "517        1 2020-02-12  63.9490  Доллар США          6394.90\n",
       "518        1 2020-02-13  63.0470  Доллар США          6304.70\n",
       "519        1 2020-02-14  63.6016  Доллар США          6360.16\n",
       "520        1 2020-02-15  63.4536  Доллар США          6345.36\n",
       "\n",
       "[521 rows x 5 columns]"
      ]
     },
     "execution_count": 19,
     "metadata": {},
     "output_type": "execute_result"
    }
   ],
   "source": [
    "exchange_rate"
   ]
  },
  {
   "cell_type": "code",
   "execution_count": 21,
   "metadata": {},
   "outputs": [
    {
     "data": {
      "text/plain": [
       "<matplotlib.axes._subplots.AxesSubplot at 0x122d6fad0>"
      ]
     },
     "execution_count": 21,
     "metadata": {},
     "output_type": "execute_result"
    },
    {
     "data": {
      "image/png": "[encoded data removed]",
      "text/plain": [
       "<Figure size 432x288 with 1 Axes>"
      ]
     },
     "metadata": {
      "needs_background": "light"
     },
     "output_type": "display_data"
    }
   ],
   "source": [
    "exchange_rate.curs.plot()"
   ]
  },
  {
   "cell_type": "code",
   "execution_count": 22,
   "metadata": {},
   "outputs": [
    {
     "data": {
      "text/plain": [
       "count    521.000000\n",
       "mean      63.699629\n",
       "std        3.046102\n",
       "min       55.671700\n",
       "25%       62.593700\n",
       "50%       64.068300\n",
       "75%       65.750800\n",
       "max       69.974400\n",
       "Name: curs, dtype: float64"
      ]
     },
     "execution_count": 22,
     "metadata": {},
     "output_type": "execute_result"
    }
   ],
   "source": [
    "exchange_rate.curs.describe()"
   ]
  },
  {
   "cell_type": "code",
   "execution_count": null,
   "metadata": {},
   "outputs": [],
   "source": []
  }
 ],
 "metadata": {
  "kernelspec": {
   "display_name": "Python 3",
   "language": "python",
   "name": "python3"
  },
  "language_info": {
   "codemirror_mode": {
    "name": "ipython",
    "version": 3
   },
   "file_extension": ".py",
   "mimetype": "text/x-python",
   "name": "python",
   "nbconvert_exporter": "python",
   "pygments_lexer": "ipython3",
   "version": "3.7.4"
  }
 },
 "nbformat": 4,
 "nbformat_minor": 2
}
